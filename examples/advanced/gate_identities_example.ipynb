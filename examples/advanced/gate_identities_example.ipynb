{
 "metadata": {
  "name": "GateIdentitiesSquint2012"
 }, 
 "nbformat": 2, 
 "worksheets": [
  {
   "cells": [
    {
     "cell_type": "code", 
     "collapsed": true, 
     "input": [
      "from sympy.physics.quantum.identitysearch import *", 
      "from sympy.physics.quantum.represent import represent", 
      "from sympy.physics.quantum.gate import *", 
      "from sympy.core.mul import Mul"
     ], 
     "language": "python", 
     "outputs": [], 
     "prompt_number": 1
    }, 
    {
     "cell_type": "code", 
     "collapsed": false, 
     "input": [
      "\"\"\"", 
      "* Gate identity - a quantum circuit such that the product of its gates equal to a scalar value, i.e. ABC = 1.", 
      "* Ignores scalar values associated with a gate.  The quantum state that the gates act on can be renormalized.", 
      "* Useful for quantum circuit optimization, and in general, manipulation.", 
      "* For circuit optimization, remove gate identities to reduce overall gate count and complexity.", 
      "* Can insert identities such that its presence may produce more identities that can be removed.", 
      "\"\"\""
     ], 
     "language": "python", 
     "outputs": [
      {
       "output_type": "pyout", 
       "prompt_number": 2, 
       "text": [
        "&apos;\\n* Gate identity - a quantum circuit such that the product of its gates equal to a scalar value, i.e. ABC = 1.\\n* Ignores scalar values associated with a gate.  The quantum state that the gates act on can be renormalized.\\n* Useful for quantum circuit optimization, and in general, manipulation.\\n* For circuit optimization, remove gate identities to reduce overall gate count and complexity.\\n* Can insert identities such that its presence may produce more identities that can be removed.\\n&apos;"
       ]
      }
     ], 
     "prompt_number": 2
    }, 
    {
     "cell_type": "code", 
     "collapsed": true, 
     "input": [
      "# Gate Identity Examples", 
      "x = X(0);  y = Y(0); z = Z(0); h = H(0);", 
      "cnot = CNOT(1,0); cgate_z = CGate((0,), Z(1))"
     ], 
     "language": "python", 
     "outputs": [], 
     "prompt_number": 3
    }, 
    {
     "cell_type": "code", 
     "collapsed": false, 
     "input": [
      "xx_id = GateIdentity(x, x); xx_id"
     ], 
     "language": "python", 
     "outputs": [
      {
       "output_type": "pyout", 
       "prompt_number": 4, 
       "text": [
        "GateIdentity(X(0), X(0))"
       ]
      }
     ], 
     "prompt_number": 4
    }, 
    {
     "cell_type": "code", 
     "collapsed": false, 
     "input": [
      "hh_id = GateIdentity(h, h); hh_id"
     ], 
     "language": "python", 
     "outputs": [
      {
       "output_type": "pyout", 
       "prompt_number": 5, 
       "text": [
        "GateIdentity(H(0), H(0))"
       ]
      }
     ], 
     "prompt_number": 5
    }, 
    {
     "cell_type": "code", 
     "collapsed": false, 
     "input": [
      "xyz_id = GateIdentity(x, y, z); xyz_id"
     ], 
     "language": "python", 
     "outputs": [
      {
       "output_type": "pyout", 
       "prompt_number": 6, 
       "text": [
        "GateIdentity(X(0), Y(0), Z(0))"
       ]
      }
     ], 
     "prompt_number": 6
    }, 
    {
     "cell_type": "code", 
     "collapsed": false, 
     "input": [
      "# matrix representation", 
      "represent(Mul(*xyz_id.circuit), nqubits=2)"
     ], 
     "language": "python", 
     "outputs": [
      {
       "output_type": "pyout", 
       "prompt_number": 7, 
       "text": [
        "[I, 0, 0, 0]", 
        "[0, I, 0, 0]", 
        "[0, 0, I, 0]", 
        "[0, 0, 0, I]"
       ]
      }
     ], 
     "prompt_number": 7
    }, 
    {
     "cell_type": "code", 
     "collapsed": false, 
     "input": [
      "\"\"\"", 
      "* First step - search for gate identities given arbitrary set of gates.", 
      "* Gate identity search algorithm:", 
      "  - tree based approach - performs a breadth first search at each node", 
      "  - finds shortest identities first", 
      "  - branch no longer explored when the circuit equals a scalar value; prunes the subtree", 
      "  - worst case complexity - exponential", 
      "  - on average fares much better than exponential due to pruning", 
      "  - produces a set of gate identities given a list of gates", 
      "\"\"\""
     ], 
     "language": "python", 
     "outputs": [
      {
       "output_type": "pyout", 
       "prompt_number": 8, 
       "text": [
        "&apos;\\n* First step - search for gate identities given arbitrary set of gates.\\n* Gate identity search algorithm:\\n  - tree based approach - performs a breadth first search at each node\\n  - finds shortest identities first\\n  - branch no longer explored when the circuit equals a scalar value; prunes the subtree\\n  - worst case complexity - exponential\\n  - on average fares much better than exponential due to pruning\\n  - produces a set of gate identities given a list of gates\\n&apos;"
       ]
      }
     ], 
     "prompt_number": 8
    }, 
    {
     "cell_type": "code", 
     "collapsed": true, 
     "input": [
      "# bfs_identity_search example", 
      "gate_list = [x, y, z, h, cnot, cgate_z]"
     ], 
     "language": "python", 
     "outputs": [], 
     "prompt_number": 9
    }, 
    {
     "cell_type": "code", 
     "collapsed": false, 
     "input": [
      "# max_depth is the maximum depth of the tree to allow", 
      "bfs_identity_search(gate_list, 2, max_depth=4)"
     ], 
     "language": "python", 
     "outputs": [
      {
       "output_type": "pyout", 
       "prompt_number": 10, 
       "text": [
        "set([GateIdentity(Y(0), H(0), Y(0), H(0)),", 
        "     GateIdentity(H(0), CNOT(1,0), H(0), C((0),Z(1))),", 
        "     GateIdentity(X(0), Y(0), X(0), Y(0)),", 
        "     GateIdentity(X(0), Y(0), Z(0)),", 
        "     GateIdentity(Y(0), Y(0)),", 
        "     GateIdentity(Z(0), Z(0)),", 
        "     GateIdentity(Z(0), C((0),Z(1)), Z(0), C((0),Z(1))),", 
        "     GateIdentity(X(0), X(0)),", 
        "     GateIdentity(X(0), H(0), Z(0), H(0)),", 
        "     GateIdentity(X(0), CNOT(1,0), X(0), CNOT(1,0)),", 
        "     GateIdentity(C((0),Z(1)), C((0),Z(1))),", 
        "     GateIdentity(X(0), Z(0), X(0), Z(0)),", 
        "     GateIdentity(H(0), H(0)),", 
        "     GateIdentity(Y(0), Z(0), Y(0), Z(0)),", 
        "     GateIdentity(CNOT(1,0), CNOT(1,0))])"
       ]
      }
     ], 
     "prompt_number": 10
    }, 
    {
     "cell_type": "code", 
     "collapsed": false, 
     "input": [
      "# can search for identities that only equal to 1 (one)", 
      "bfs_identity_search(gate_list, 2, max_depth=4, identity_only=True)"
     ], 
     "language": "python", 
     "outputs": [
      {
       "output_type": "pyout", 
       "prompt_number": 11, 
       "text": [
        "set([GateIdentity(Y(0), Y(0)),", 
        "     GateIdentity(Z(0), Z(0)),", 
        "     GateIdentity(Z(0), C((0),Z(1)), Z(0), C((0),Z(1))),", 
        "     GateIdentity(X(0), X(0)),", 
        "     GateIdentity(X(0), CNOT(1,0), X(0), CNOT(1,0)),", 
        "     GateIdentity(C((0),Z(1)), C((0),Z(1))),", 
        "     GateIdentity(H(0), H(0)),", 
        "     GateIdentity(CNOT(1,0), CNOT(1,0))])"
       ]
      }
     ], 
     "prompt_number": 11
    }
   ]
  }
 ]
}