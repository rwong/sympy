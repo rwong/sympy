{
 "metadata": {
  "name": "gate_identities_example"
 },
 "nbformat": 3,
 "worksheets": [
  {
   "cells": [
    {
     "cell_type": "code",
     "collapsed": true,
     "input": [
      "from sympy.physics.quantum.identitysearch import *",
      "from sympy.physics.quantum.represent import represent",
      "from sympy.physics.quantum.gate import *",
      "from sympy.core.mul import Mul",
      "from IPython.core.display import display"
     ],
     "language": "python",
     "outputs": []
    },
    {
     "cell_type": "markdown",
     "source": [
      "* Gate identity - a quantum circuit such that the product of its gates equal to a scalar value, i.e. ABC = 1.",
      "* Ignores scalar values associated with a gate.  The quantum state that the gates act on can be renormalized.",
      "* Useful for quantum circuit optimization, and in general, manipulation.",
      "* For circuit optimization, remove gate identities to reduce overall gate count and complexity.",
      "* Can insert identities such that its presence may produce more identities that can be removed."
     ]
    },
    {
     "cell_type": "code",
     "collapsed": true,
     "input": [
      "x = X(0)",
      "y = Y(0)",
      "z = Z(0)",
      "h = H(0)",
      "cnot = CNOT(1,0)",
      "cgate_z = CGate((0,), Z(1))"
     ],
     "language": "python",
     "outputs": [],
     "prompt_number": 2
    },
    {
     "cell_type": "code",
     "collapsed": false,
     "input": [
      "xx_id = GateIdentity(x, x); xx_id.circuit"
     ],
     "language": "python",
     "outputs": [
      {
       "latex": [
        "$$\\begin{pmatrix}X_{0}, & X_{0}\\end{pmatrix}$$"
       ],
       "output_type": "pyout",
       "prompt_number": 4,
       "text": [
        "(",
        "X ",
        " 0, ",
        "X ",
        " 0)"
       ]
      }
     ],
     "prompt_number": 4
    },
    {
     "cell_type": "code",
     "collapsed": false,
     "input": [
      "hh_id = GateIdentity(h, h); hh_id.circuit"
     ],
     "language": "python",
     "outputs": [
      {
       "latex": [
        "$$\\begin{pmatrix}H_{0}, & H_{0}\\end{pmatrix}$$"
       ],
       "output_type": "pyout",
       "prompt_number": 17,
       "text": [
        "(",
        "H ",
        " 0, ",
        "H ",
        " 0)"
       ]
      }
     ],
     "prompt_number": 17
    },
    {
     "cell_type": "code",
     "collapsed": false,
     "input": [
      "xyz_id = GateIdentity(x, y, z); xyz_id.circuit"
     ],
     "language": "python",
     "outputs": [
      {
       "latex": [
        "$$\\begin{pmatrix}X_{0}, & Y_{0}, & Z_{0}\\end{pmatrix}$$"
       ],
       "output_type": "pyout",
       "prompt_number": 12,
       "text": [
        "(",
        "X ",
        " 0, ",
        "Y ",
        " 0, ",
        "Z ",
        " 0)"
       ]
      }
     ],
     "prompt_number": 12
    },
    {
     "cell_type": "code",
     "collapsed": false,
     "input": [
      "represent(Mul(*xyz_id.circuit), nqubits=2)"
     ],
     "language": "python",
     "outputs": [
      {
       "latex": [
        "$$\\left[\\begin{smallmatrix}\\mathbf{\\imath} & 0 & 0 & 0\\\\0 & \\mathbf{\\imath} & 0 & 0\\\\0 & 0 & \\mathbf{\\imath} & 0\\\\0 & 0 & 0 & \\mathbf{\\imath}\\end{smallmatrix}\\right]$$"
       ],
       "output_type": "pyout",
       "prompt_number": 13,
       "text": [
        "",
        "\u23a1\u2148  0  0  0\u23a4",
        "\u23a2          \u23a5",
        "\u23a20  \u2148  0  0\u23a5",
        "\u23a2          \u23a5",
        "\u23a20  0  \u2148  0\u23a5",
        "\u23a2          \u23a5",
        "\u23a30  0  0  \u2148\u23a6"
       ]
      }
     ],
     "prompt_number": 13
    },
    {
     "cell_type": "markdown",
     "source": [
      "* First step towards optimization is to search for gate identities given arbitrary set of gates.",
      "* Gate identity search algorithm:",
      "  - tree based approach - performs a breadth first search at each node",
      "  - finds shortest identities first",
      "  - branch no longer explored when the circuit equals a scalar value; prunes the subtree",
      "  - worst case complexity - exponential",
      "  - on average fares much better than exponential due to pruning",
      "  - produces a set of gate identities given a list of gates"
     ]
    },
    {
     "cell_type": "code",
     "collapsed": true,
     "input": [
      "gate_list = [x, y, z, h, cnot, cgate_z]",
      "identities1 = bfs_identity_search(gate_list, 2, max_depth=4)"
     ],
     "language": "python",
     "outputs": [],
     "prompt_number": 18
    },
    {
     "cell_type": "code",
     "collapsed": false,
     "input": [
      "for gi in identities1:",
      "    display(gi.circuit)"
     ],
     "language": "python",
     "outputs": [
      {
       "latex": [
        "$$\\begin{pmatrix}Y_{0}, & H_{0}, & Y_{0}, & H_{0}\\end{pmatrix}$$"
       ],
       "output_type": "display_data",
       "text": [
        "(",
        "Y ",
        " 0, ",
        "H ",
        " 0, ",
        "Y ",
        " 0, ",
        "H ",
        " 0)"
       ]
      },
      {
       "latex": [
        "$$\\begin{pmatrix}H_{0}, & CNOT_{1,0}, & H_{0}, & C_{0}{\\left(Z_{1}\\right)}\\end{pmatrix}$$"
       ],
       "output_type": "display_data",
       "text": [
        "(",
        "H ",
        " 0, ",
        "CNOT   ",
        "    1,0, ",
        "H ",
        " 0, ",
        "C \u239bZ \u239e",
        " 0\u239d 1\u23a0)"
       ]
      },
      {
       "latex": [
        "$$\\begin{pmatrix}X_{0}, & Y_{0}, & X_{0}, & Y_{0}\\end{pmatrix}$$"
       ],
       "output_type": "display_data",
       "text": [
        "(",
        "X ",
        " 0, ",
        "Y ",
        " 0, ",
        "X ",
        " 0, ",
        "Y ",
        " 0)"
       ]
      },
      {
       "latex": [
        "$$\\begin{pmatrix}X_{0}, & Y_{0}, & Z_{0}\\end{pmatrix}$$"
       ],
       "output_type": "display_data",
       "text": [
        "(",
        "X ",
        " 0, ",
        "Y ",
        " 0, ",
        "Z ",
        " 0)"
       ]
      },
      {
       "latex": [
        "$$\\begin{pmatrix}Y_{0}, & Y_{0}\\end{pmatrix}$$"
       ],
       "output_type": "display_data",
       "text": [
        "(",
        "Y ",
        " 0, ",
        "Y ",
        " 0)"
       ]
      },
      {
       "latex": [
        "$$\\begin{pmatrix}Z_{0}, & Z_{0}\\end{pmatrix}$$"
       ],
       "output_type": "display_data",
       "text": [
        "(",
        "Z ",
        " 0, ",
        "Z ",
        " 0)"
       ]
      },
      {
       "latex": [
        "$$\\begin{pmatrix}Z_{0}, & C_{0}{\\left(Z_{1}\\right)}, & Z_{0}, & C_{0}{\\left(Z_{1}\\right)}\\end{pmatrix}$$"
       ],
       "output_type": "display_data",
       "text": [
        "(",
        "Z ",
        " 0, ",
        "C \u239bZ \u239e",
        " 0\u239d 1\u23a0, ",
        "Z ",
        " 0, ",
        "C \u239bZ \u239e",
        " 0\u239d 1\u23a0)"
       ]
      },
      {
       "latex": [
        "$$\\begin{pmatrix}X_{0}, & X_{0}\\end{pmatrix}$$"
       ],
       "output_type": "display_data",
       "text": [
        "(",
        "X ",
        " 0, ",
        "X ",
        " 0)"
       ]
      },
      {
       "latex": [
        "$$\\begin{pmatrix}X_{0}, & H_{0}, & Z_{0}, & H_{0}\\end{pmatrix}$$"
       ],
       "output_type": "display_data",
       "text": [
        "(",
        "X ",
        " 0, ",
        "H ",
        " 0, ",
        "Z ",
        " 0, ",
        "H ",
        " 0)"
       ]
      },
      {
       "latex": [
        "$$\\begin{pmatrix}X_{0}, & CNOT_{1,0}, & X_{0}, & CNOT_{1,0}\\end{pmatrix}$$"
       ],
       "output_type": "display_data",
       "text": [
        "(",
        "X ",
        " 0, ",
        "CNOT   ",
        "    1,0, ",
        "X ",
        " 0, ",
        "CNOT   ",
        "    1,0)"
       ]
      },
      {
       "latex": [
        "$$\\begin{pmatrix}C_{0}{\\left(Z_{1}\\right)}, & C_{0}{\\left(Z_{1}\\right)}\\end{pmatrix}$$"
       ],
       "output_type": "display_data",
       "text": [
        "(",
        "C \u239bZ \u239e",
        " 0\u239d 1\u23a0, ",
        "C \u239bZ \u239e",
        " 0\u239d 1\u23a0)"
       ]
      },
      {
       "latex": [
        "$$\\begin{pmatrix}X_{0}, & Z_{0}, & X_{0}, & Z_{0}\\end{pmatrix}$$"
       ],
       "output_type": "display_data",
       "text": [
        "(",
        "X ",
        " 0, ",
        "Z ",
        " 0, ",
        "X ",
        " 0, ",
        "Z ",
        " 0)"
       ]
      },
      {
       "latex": [
        "$$\\begin{pmatrix}H_{0}, & H_{0}\\end{pmatrix}$$"
       ],
       "output_type": "display_data",
       "text": [
        "(",
        "H ",
        " 0, ",
        "H ",
        " 0)"
       ]
      },
      {
       "latex": [
        "$$\\begin{pmatrix}Y_{0}, & Z_{0}, & Y_{0}, & Z_{0}\\end{pmatrix}$$"
       ],
       "output_type": "display_data",
       "text": [
        "(",
        "Y ",
        " 0, ",
        "Z ",
        " 0, ",
        "Y ",
        " 0, ",
        "Z ",
        " 0)"
       ]
      },
      {
       "latex": [
        "$$\\begin{pmatrix}CNOT_{1,0}, & CNOT_{1,0}\\end{pmatrix}$$"
       ],
       "output_type": "display_data",
       "text": [
        "(",
        "CNOT   ",
        "    1,0, ",
        "CNOT   ",
        "    1,0)"
       ]
      }
     ],
     "prompt_number": 19
    },
    {
     "cell_type": "code",
     "collapsed": false,
     "input": [
      "# Search for identities that only equal to 1 (one)",
      "identities2 = bfs_identity_search(gate_list, 2, max_depth=4, identity_only=True)"
     ],
     "language": "python",
     "outputs": [],
     "prompt_number": 20
    },
    {
     "cell_type": "code",
     "collapsed": false,
     "input": [
      "for gi in identities2:",
      "    display(gi.circuit)"
     ],
     "language": "python",
     "outputs": [
      {
       "latex": [
        "$$\\begin{pmatrix}Y_{0}, & H_{0}, & Y_{0}, & H_{0}\\end{pmatrix}$$"
       ],
       "output_type": "display_data",
       "text": [
        "(",
        "Y ",
        " 0, ",
        "H ",
        " 0, ",
        "Y ",
        " 0, ",
        "H ",
        " 0)"
       ]
      },
      {
       "latex": [
        "$$\\begin{pmatrix}H_{0}, & CNOT_{1,0}, & H_{0}, & C_{0}{\\left(Z_{1}\\right)}\\end{pmatrix}$$"
       ],
       "output_type": "display_data",
       "text": [
        "(",
        "H ",
        " 0, ",
        "CNOT   ",
        "    1,0, ",
        "H ",
        " 0, ",
        "C \u239bZ \u239e",
        " 0\u239d 1\u23a0)"
       ]
      },
      {
       "latex": [
        "$$\\begin{pmatrix}X_{0}, & Y_{0}, & X_{0}, & Y_{0}\\end{pmatrix}$$"
       ],
       "output_type": "display_data",
       "text": [
        "(",
        "X ",
        " 0, ",
        "Y ",
        " 0, ",
        "X ",
        " 0, ",
        "Y ",
        " 0)"
       ]
      },
      {
       "latex": [
        "$$\\begin{pmatrix}X_{0}, & Y_{0}, & Z_{0}\\end{pmatrix}$$"
       ],
       "output_type": "display_data",
       "text": [
        "(",
        "X ",
        " 0, ",
        "Y ",
        " 0, ",
        "Z ",
        " 0)"
       ]
      },
      {
       "latex": [
        "$$\\begin{pmatrix}Y_{0}, & Y_{0}\\end{pmatrix}$$"
       ],
       "output_type": "display_data",
       "text": [
        "(",
        "Y ",
        " 0, ",
        "Y ",
        " 0)"
       ]
      },
      {
       "latex": [
        "$$\\begin{pmatrix}Z_{0}, & Z_{0}\\end{pmatrix}$$"
       ],
       "output_type": "display_data",
       "text": [
        "(",
        "Z ",
        " 0, ",
        "Z ",
        " 0)"
       ]
      },
      {
       "latex": [
        "$$\\begin{pmatrix}Z_{0}, & C_{0}{\\left(Z_{1}\\right)}, & Z_{0}, & C_{0}{\\left(Z_{1}\\right)}\\end{pmatrix}$$"
       ],
       "output_type": "display_data",
       "text": [
        "(",
        "Z ",
        " 0, ",
        "C \u239bZ \u239e",
        " 0\u239d 1\u23a0, ",
        "Z ",
        " 0, ",
        "C \u239bZ \u239e",
        " 0\u239d 1\u23a0)"
       ]
      },
      {
       "latex": [
        "$$\\begin{pmatrix}X_{0}, & X_{0}\\end{pmatrix}$$"
       ],
       "output_type": "display_data",
       "text": [
        "(",
        "X ",
        " 0, ",
        "X ",
        " 0)"
       ]
      },
      {
       "latex": [
        "$$\\begin{pmatrix}X_{0}, & H_{0}, & Z_{0}, & H_{0}\\end{pmatrix}$$"
       ],
       "output_type": "display_data",
       "text": [
        "(",
        "X ",
        " 0, ",
        "H ",
        " 0, ",
        "Z ",
        " 0, ",
        "H ",
        " 0)"
       ]
      },
      {
       "latex": [
        "$$\\begin{pmatrix}X_{0}, & CNOT_{1,0}, & X_{0}, & CNOT_{1,0}\\end{pmatrix}$$"
       ],
       "output_type": "display_data",
       "text": [
        "(",
        "X ",
        " 0, ",
        "CNOT   ",
        "    1,0, ",
        "X ",
        " 0, ",
        "CNOT   ",
        "    1,0)"
       ]
      },
      {
       "latex": [
        "$$\\begin{pmatrix}C_{0}{\\left(Z_{1}\\right)}, & C_{0}{\\left(Z_{1}\\right)}\\end{pmatrix}$$"
       ],
       "output_type": "display_data",
       "text": [
        "(",
        "C \u239bZ \u239e",
        " 0\u239d 1\u23a0, ",
        "C \u239bZ \u239e",
        " 0\u239d 1\u23a0)"
       ]
      },
      {
       "latex": [
        "$$\\begin{pmatrix}X_{0}, & Z_{0}, & X_{0}, & Z_{0}\\end{pmatrix}$$"
       ],
       "output_type": "display_data",
       "text": [
        "(",
        "X ",
        " 0, ",
        "Z ",
        " 0, ",
        "X ",
        " 0, ",
        "Z ",
        " 0)"
       ]
      },
      {
       "latex": [
        "$$\\begin{pmatrix}H_{0}, & H_{0}\\end{pmatrix}$$"
       ],
       "output_type": "display_data",
       "text": [
        "(",
        "H ",
        " 0, ",
        "H ",
        " 0)"
       ]
      },
      {
       "latex": [
        "$$\\begin{pmatrix}Y_{0}, & Z_{0}, & Y_{0}, & Z_{0}\\end{pmatrix}$$"
       ],
       "output_type": "display_data",
       "text": [
        "(",
        "Y ",
        " 0, ",
        "Z ",
        " 0, ",
        "Y ",
        " 0, ",
        "Z ",
        " 0)"
       ]
      },
      {
       "latex": [
        "$$\\begin{pmatrix}CNOT_{1,0}, & CNOT_{1,0}\\end{pmatrix}$$"
       ],
       "output_type": "display_data",
       "text": [
        "(",
        "CNOT   ",
        "    1,0, ",
        "CNOT   ",
        "    1,0)"
       ]
      }
     ],
     "prompt_number": 16
    },
    {
     "cell_type": "code",
     "collapsed": true,
     "input": [],
     "language": "python",
     "outputs": []
    }
   ]
  }
 ]
}