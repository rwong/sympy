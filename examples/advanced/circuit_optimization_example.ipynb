{
 "metadata": {
  "name": "circuit_optimization_example"
 }, 
 "nbformat": 2, 
 "worksheets": [
  {
   "cells": [
    {
     "cell_type": "code", 
     "collapsed": true, 
     "input": [
      "\"\"\"", 
      "* Primitive operations in circuit optimization:", 
      "  - subcircuit matching", 
      "    ~ runs in O(n + k), where n is the size of the circuit, k is the size of the subcircuit", 
      "  - replacement (or removal)", 
      "", 
      "* Basic approach:", 
      "  1) construct a comprehensize list of gate identities", 
      "  2) given an arbitrary circuit, remove the gate identities", 
      "", 
      "* Challenges to basic approach:", 
      "  1) immediately removing a gate identity may not be globally optimal", 
      "", 
      "* Response to challenge #1: evolutionary algorithms, specifically genetic programming", 
      "  - circuits represented with a linear program structure", 
      "  - mutations in genetic programming may help bypass locally optimally configurations", 
      "", 
      "* Current approach:", 
      "  1) construct a comprehensize list of gate identities", 
      "  2) create an initial population of circuits", 
      "  3) evolve the population through mutations only", 
      "  4) check the most fit member of the population after a certain number of generations", 
      "", 
      "* Why mutations only at the moment?", 
      "  - Idea is to remain in the same equivalence class of circuit configurations -> may run \"faster\"", 
      "", 
      "* Current mutations:", 
      "  1) inserting a gate identity into a random location", 
      "  2) randomly remove a gate identity, if present", 
      "", 
      "* Initial population creation:", 
      "  1) create a finite size of individuals that are copies of the circuit under concern", 
      "  2) for each individual, insert a gate identity into a random location", 
      "", 
      "* In the future, may experiment with crossover operations", 
      "  - pick a crossover point and swap the pieces to create two new circuits", 
      "  - new circuits may not necessarily be equivalent to the original", 
      "", 
      "* Using open source library Pyevolve to create genetic algorithm", 
      "\"\"\"", 
      "", 
      "from sympy.physics.quantum.qcevolve import *", 
      "from sympy.physics.quantum.gate import *"
     ], 
     "language": "python", 
     "outputs": [], 
     "prompt_number": 1
    }, 
    {
     "cell_type": "code", 
     "collapsed": true, 
     "input": [
      "# Subcircuit Searching Example", 
      "x = X(0); y = Y(0); z = Z(0); h = H(0); cnot = CNOT(1,0)"
     ], 
     "language": "python", 
     "outputs": [], 
     "prompt_number": 2
    }, 
    {
     "cell_type": "code", 
     "collapsed": false, 
     "input": [
      "circuit = (x, y, z, h, cnot, y, z, h, x, cnot)", 
      "subcircuit = (h, cnot, y, z)", 
      "", 
      "# Gives the starting location of the first subcircuit it sees in circuit", 
      "find_subcircuit(circuit, subcircuit)"
     ], 
     "language": "python", 
     "outputs": [
      {
       "output_type": "pyout", 
       "prompt_number": 3, 
       "text": [
        "3"
       ]
      }
     ], 
     "prompt_number": 3
    }, 
    {
     "cell_type": "code", 
     "collapsed": false, 
     "input": [
      "subcircuit = (x, y, z)", 
      "find_subcircuit(circuit, subcircuit)"
     ], 
     "language": "python", 
     "outputs": [
      {
       "output_type": "pyout", 
       "prompt_number": 4, 
       "text": [
        "0"
       ]
      }
     ], 
     "prompt_number": 4
    }, 
    {
     "cell_type": "code", 
     "collapsed": false, 
     "input": [
      "circuit = (x, y, z, h, x, y, z)", 
      "subcircuit = (x, y)", 
      "find_subcircuit(circuit, subcircuit)"
     ], 
     "language": "python", 
     "outputs": [
      {
       "output_type": "pyout", 
       "prompt_number": 5, 
       "text": [
        "0"
       ]
      }
     ], 
     "prompt_number": 5
    }, 
    {
     "cell_type": "code", 
     "collapsed": false, 
     "input": [
      "# Provides option to start search in middle of circuit", 
      "find_subcircuit(circuit, subcircuit, start=3)"
     ], 
     "language": "python", 
     "outputs": [
      {
       "output_type": "pyout", 
       "prompt_number": 6, 
       "text": [
        "4"
       ]
      }
     ], 
     "prompt_number": 6
    }, 
    {
     "cell_type": "code", 
     "collapsed": false, 
     "input": [
      "# Circuit Removal Example", 
      "circuit = (z, y, x, h, x, y, z)", 
      "remove = (z, y, x)", 
      "qc_remove_subcircuit(circuit, remove)"
     ], 
     "language": "python", 
     "outputs": [
      {
       "output_type": "pyout", 
       "prompt_number": 7, 
       "text": [
        "(H(0), X(0), Y(0), Z(0))"
       ]
      }
     ], 
     "prompt_number": 7
    }, 
    {
     "cell_type": "code", 
     "collapsed": false, 
     "input": [
      "circuit = (x, y, z, h, y, z, h)", 
      "remove = (y, z)", 
      "qc_remove_subcircuit(circuit, remove)"
     ], 
     "language": "python", 
     "outputs": [
      {
       "output_type": "pyout", 
       "prompt_number": 8, 
       "text": [
        "(X(0), H(0), Y(0), Z(0), H(0))"
       ]
      }
     ], 
     "prompt_number": 8
    }, 
    {
     "cell_type": "code", 
     "collapsed": false, 
     "input": [
      "# Provides option to start search in middle of circuit", 
      "qc_remove_subcircuit(circuit, remove, pos=2)"
     ], 
     "language": "python", 
     "outputs": [
      {
       "output_type": "pyout", 
       "prompt_number": 9, 
       "text": [
        "(X(0), Y(0), Z(0), H(0), H(0))"
       ]
      }
     ], 
     "prompt_number": 9
    }
   ]
  }
 ]
}